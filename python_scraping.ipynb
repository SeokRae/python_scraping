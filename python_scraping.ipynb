{
 "cells": [
  {
   "cell_type": "code",
   "execution_count": 1,
   "metadata": {},
   "outputs": [],
   "source": [
    "import requests"
   ]
  },
  {
   "cell_type": "code",
   "execution_count": 2,
   "metadata": {},
   "outputs": [],
   "source": [
    "from bs4 import BeautifulSoup as bs"
   ]
  },
  {
   "cell_type": "code",
   "execution_count": 3,
   "metadata": {},
   "outputs": [],
   "source": [
    "LIMIT = 50\n",
    "# indeed url\n",
    "Q = \"python\"\n",
    "INDEED_URL = f\"https://kr.indeed.com/jobs?q={Q}&limit={LIMIT}\""
   ]
  },
  {
   "cell_type": "code",
   "execution_count": 4,
   "metadata": {},
   "outputs": [],
   "source": [
    "# test indeed_page\n",
    "def get_indeed_last_page():\n",
    "    get_request = requests.get(INDEED_URL)\n",
    "    html_parse = bs(get_request.text, 'html.parser') # HTML 파싱\n",
    "\n",
    "    # pagination > a > span 찾기\n",
    "    pages = html_parse.find(\"div\", {\"class\": \"pagination\"}).find_all('a')\n",
    "\n",
    "    page_list = []\n",
    "\n",
    "    # 마지막 값(Next)을 제외한 page를 저장\n",
    "    for page in pages[:-1]:\n",
    "        page_value = int(page.find('span').string)\n",
    "        page_list.append(page_value)\n",
    "\n",
    "    max_page = page_list[-1]\n",
    "    \n",
    "    return max_page"
   ]
  },
  {
   "cell_type": "code",
   "execution_count": 5,
   "metadata": {},
   "outputs": [],
   "source": [
    "def extract_jobs(html):\n",
    "    # title\n",
    "    h2_title = html.find(\"h2\", {\"class\": \"title\"})\n",
    "    title = h2_title.find(\"a\")[\"title\"]\n",
    "    # company\n",
    "    span_company = html.find(\"span\", {\"class\": \"company\"})\n",
    "    a_company = span_company.find(\"a\")\n",
    "\n",
    "    company = \"\"\n",
    "    if a_company is not None:\n",
    "        company = str(a_company.string)\n",
    "    else:\n",
    "        company = str(span_company.string)\n",
    "    company = company.strip()\n",
    "\n",
    "    location = html.find(\"div\", {\"class\": \"recJobLoc\"})[\"data-rc-loc\"]\n",
    "    job_id = html[\"data-jk\"]\n",
    "    \n",
    "    return {\"title\": title, \"company\": company, \"location\": location, \"link\": f\"https://kr.indeed.com/viewjob?jk={job_id}\"}"
   ]
  },
  {
   "cell_type": "code",
   "execution_count": 6,
   "metadata": {},
   "outputs": [],
   "source": [
    "def get_jobs(last_page):\n",
    "    jobs = []\n",
    "    for page in range(last_page):\n",
    "        print(f\" scrapping {page}\")\n",
    "    \n",
    "    # https://kr.indeed.com/jobs?q=python&limit=50&start=0\n",
    "    get_request = requests.get(f\"{INDEED_URL}&start={page*LIMIT}\")\n",
    "    \n",
    "    # print(f\" request status: {get_request.status_code}\")\n",
    "    html_parse = bs(get_request.text, 'html.parser') # HTML 파싱\n",
    "    results = html_parse.find_all(\"div\", {\"class\": \"jobsearch-SerpJobCard\"})\n",
    "    \n",
    "    for result in results:\n",
    "      job = extract_jobs(result)\n",
    "      jobs.append(job)\n",
    "    return jobs"
   ]
  },
  {
   "cell_type": "code",
   "execution_count": 7,
   "metadata": {
    "scrolled": false
   },
   "outputs": [],
   "source": [
    "# indeed jobs\n",
    "def get_indeed_jobs():\n",
    "    last_page = get_indeed_last_page()\n",
    "    jobs = get_jobs(last_page)\n",
    "    return jobs"
   ]
  },
  {
   "cell_type": "code",
   "execution_count": 8,
   "metadata": {},
   "outputs": [
    {
     "name": "stdout",
     "output_type": "stream",
     "text": [
      " scrapping 0\n",
      " scrapping 1\n",
      " scrapping 2\n",
      " scrapping 3\n",
      " scrapping 4\n",
      " scrapping 5\n",
      " scrapping 6\n",
      " scrapping 7\n",
      " scrapping 8\n",
      " scrapping 9\n",
      " scrapping 10\n",
      " scrapping 11\n"
     ]
    },
    {
     "data": {
      "text/plain": [
       "[{'title': 'Android Developer',\n",
       "  'company': 'Bepro Company',\n",
       "  'location': '서울',\n",
       "  'link': 'https://kr.indeed.com/viewjob?jk=c6bf8184940d37c3'},\n",
       " {'title': '[Search & Clova] 쇼핑검색 AI 기술 개발 신입/경력사원',\n",
       "  'company': '네이버',\n",
       "  'location': '대한민국',\n",
       "  'link': 'https://kr.indeed.com/viewjob?jk=faf0422473d4188a'},\n",
       " {'title': '데이터 엔지니어',\n",
       "  'company': '에이치알 코리아',\n",
       "  'location': '대한민국',\n",
       "  'link': 'https://kr.indeed.com/viewjob?jk=04f3458db4cc1f14'},\n",
       " {'title': '[개발]상담시스템 백엔드 개발자(정규직)',\n",
       "  'company': '위메프',\n",
       "  'location': '대한민국',\n",
       "  'link': 'https://kr.indeed.com/viewjob?jk=9b123ff73f89c0e5'},\n",
       " {'title': '인공지능(AI) SW개발 담당 0명 자동화 산업장비 제조업 new',\n",
       "  'company': '자동화 산업장비 제조업',\n",
       "  'location': '대한민국',\n",
       "  'link': 'https://kr.indeed.com/viewjob?jk=5164238b12d010da'},\n",
       " {'title': '데이터 분석 및 지표 구축',\n",
       "  'company': '아프리카TV',\n",
       "  'location': '성남 분당구',\n",
       "  'link': 'https://kr.indeed.com/viewjob?jk=613678e409e8667c'},\n",
       " {'title': '데이터 분석 및 모델링 (페이코 쿠폰/광고 타겟팅)',\n",
       "  'company': 'NHN',\n",
       "  'location': '성남 판교역',\n",
       "  'link': 'https://kr.indeed.com/viewjob?jk=4e17fe419583b40b'},\n",
       " {'title': '[개발]신사업 프론트 개발자(정규직)',\n",
       "  'company': '위메프',\n",
       "  'location': '대한민국',\n",
       "  'link': 'https://kr.indeed.com/viewjob?jk=57aa1b90d7626f69'},\n",
       " {'title': 'qe 소프트웨어 엔지니어',\n",
       "  'company': '에이치알 코리아',\n",
       "  'location': '대한민국',\n",
       "  'link': 'https://kr.indeed.com/viewjob?jk=85687b250386c4be'},\n",
       " {'title': '[Search & Clova] NAVER Search 이미지 검색서버개발 신입/경력사원',\n",
       "  'company': '네이버',\n",
       "  'location': '대한민국',\n",
       "  'link': 'https://kr.indeed.com/viewjob?jk=a771637c0eeffc26'},\n",
       " {'title': '빅데이터 플랫폼 및 BI시스템 구축 그룹 IT계열사',\n",
       "  'company': '그룹 IT계열사',\n",
       "  'location': '서울특별시',\n",
       "  'link': 'https://kr.indeed.com/viewjob?jk=c1936b77c8be4bcf'},\n",
       " {'title': '[동영상플랫폼] 연계형 인턴십',\n",
       "  'company': '네이버',\n",
       "  'location': '대한민국',\n",
       "  'link': 'https://kr.indeed.com/viewjob?jk=e65a195da656bcdc'},\n",
       " {'title': '[Search&Clova] Clova 머신러닝 Scientist 개발 신입/경력사원',\n",
       "  'company': '네이버',\n",
       "  'location': '대한민국',\n",
       "  'link': 'https://kr.indeed.com/viewjob?jk=257110e5aec08f6d'},\n",
       " {'title': '[Search&Clova] Clova AI AiCall 개발자 경력사원',\n",
       "  'company': '네이버',\n",
       "  'location': '대한민국',\n",
       "  'link': 'https://kr.indeed.com/viewjob?jk=7db25ada717266e0'},\n",
       " {'title': '기술영업(신입/경력)',\n",
       "  'company': '에이치알 코리아',\n",
       "  'location': '대한민국',\n",
       "  'link': 'https://kr.indeed.com/viewjob?jk=9fa9d498506f86aa'},\n",
       " {'title': '카카오 분석 플랫폼 경력 개발자',\n",
       "  'company': '카카오',\n",
       "  'location': '성남 판교역',\n",
       "  'link': 'https://kr.indeed.com/viewjob?jk=8ae7c240ef7d5f0b'},\n",
       " {'title': '[Autonomous Driving] Virtual Environment Simulation Engineer',\n",
       "  'company': '네이버',\n",
       "  'location': '대한민국',\n",
       "  'link': 'https://kr.indeed.com/viewjob?jk=5ed0334bca0963cb'},\n",
       " {'title': '[개발]위메프 패션 백엔드 개발자(정규직)',\n",
       "  'company': '위메프',\n",
       "  'location': '대한민국',\n",
       "  'link': 'https://kr.indeed.com/viewjob?jk=b0e9252f0c2cf6ec'},\n",
       " {'title': '[Autonomous Driving] Software Tool Engineer',\n",
       "  'company': '네이버',\n",
       "  'location': '대한민국',\n",
       "  'link': 'https://kr.indeed.com/viewjob?jk=84348b9371558933'},\n",
       " {'title': '데이터 플랫폼 개발',\n",
       "  'company': 'NHN PAYCO',\n",
       "  'location': '성남 판교역',\n",
       "  'link': 'https://kr.indeed.com/viewjob?jk=a65baa1929f29393'},\n",
       " {'title': 'Mechanical BOP 그룹 유망계열사',\n",
       "  'company': '그룹 유망계열사',\n",
       "  'location': '경기도',\n",
       "  'link': 'https://kr.indeed.com/viewjob?jk=ed01bcce65f5abd3'},\n",
       " {'title': '[개발]위메프오 서비스 서버개발자(정규직)',\n",
       "  'company': '위메프',\n",
       "  'location': '대한민국',\n",
       "  'link': 'https://kr.indeed.com/viewjob?jk=5f3a399e83a81379'},\n",
       " {'title': '[개발]웹 서비스 개발자(정규직)',\n",
       "  'company': '위메프',\n",
       "  'location': '대한민국',\n",
       "  'link': 'https://kr.indeed.com/viewjob?jk=9bff6cc5a8f53e6e'},\n",
       " {'title': '카카오콘 앱(iOS), 서버 경력 개발자',\n",
       "  'company': '카카오',\n",
       "  'location': '대한민국',\n",
       "  'link': 'https://kr.indeed.com/viewjob?jk=b9974ad79659bb6d'},\n",
       " {'title': '네이버 일본 맛집 서비스 CONOMI 머신러닝 개발자',\n",
       "  'company': '네이버',\n",
       "  'location': '대한민국',\n",
       "  'link': 'https://kr.indeed.com/viewjob?jk=feac8a234b715106'},\n",
       " {'title': '반응형웹개발자(3년이상)',\n",
       "  'company': '에이치알 코리아',\n",
       "  'location': '대한민국',\n",
       "  'link': 'https://kr.indeed.com/viewjob?jk=e42dff836a3182d7'},\n",
       " {'title': '[Search & Clova] 네이버 웹검색 연구/개발 경력사원',\n",
       "  'company': '네이버',\n",
       "  'location': '대한민국',\n",
       "  'link': 'https://kr.indeed.com/viewjob?jk=37127548f83bb7f7'},\n",
       " {'title': '네이버 쇼핑검색플랫폼 개발자',\n",
       "  'company': '네이버',\n",
       "  'location': '대한민국',\n",
       "  'link': 'https://kr.indeed.com/viewjob?jk=f3a14b3f8d9e3e12'},\n",
       " {'title': '[Search&Clova] Clova AI 이미지/비디오 인식 모델 개발 및 데이터 구축 신입/경력사원',\n",
       "  'company': '네이버',\n",
       "  'location': '대한민국',\n",
       "  'link': 'https://kr.indeed.com/viewjob?jk=aa9b2ed0c68a131f'},\n",
       " {'title': 'AI Engineer (바디모션 캡처기술) 인공지능(AI) 연구개발 전문기업',\n",
       "  'company': '인공지능(AI) 연구개발 전문기업',\n",
       "  'location': '경기도',\n",
       "  'link': 'https://kr.indeed.com/viewjob?jk=8925ce6bab9d00d6'},\n",
       " {'title': 'AI Engineer (얼굴모션 캡처기술) 인공지능(AI) 연구개발 전문기업',\n",
       "  'company': '인공지능(AI) 연구개발 전문기업',\n",
       "  'location': '경기도',\n",
       "  'link': 'https://kr.indeed.com/viewjob?jk=4fa50f2ffd370bae'},\n",
       " {'title': '[아이콘트롤스] 2020년 경력 직원 (1.모바일App/웹 개발 2.데이터분석 3.머신러닝 모델 개발)',\n",
       "  'company': '현대산업개발',\n",
       "  'location': '대한민국',\n",
       "  'link': 'https://kr.indeed.com/viewjob?jk=27e932628adc768b'},\n",
       " {'title': '네이버 UGC 데이터 분석/운영 개발자',\n",
       "  'company': '네이버',\n",
       "  'location': '대한민국',\n",
       "  'link': 'https://kr.indeed.com/viewjob?jk=fd67d04ed1642339'},\n",
       " {'title': '[Search&Clova] Clova AI 이미지/비디오 인식 모델 개발 및 데이터 구축 체험형 인턴',\n",
       "  'company': '네이버',\n",
       "  'location': '대한민국',\n",
       "  'link': 'https://kr.indeed.com/viewjob?jk=37b785f21c60e74f'},\n",
       " {'title': '웹/모바일 기반 벡엔드/프론트엔드 개발_대리, 과장급_대기업',\n",
       "  'company': '에이치알 코리아',\n",
       "  'location': '대한민국',\n",
       "  'link': 'https://kr.indeed.com/viewjob?jk=8c4e16d1785c009f'},\n",
       " {'title': 'iOS Developer',\n",
       "  'company': 'Bepro Company',\n",
       "  'location': '서울',\n",
       "  'link': 'https://kr.indeed.com/viewjob?jk=297e6568c740f98e'},\n",
       " {'title': 'Frontend Developer (Javascript/React)',\n",
       "  'company': 'Bepro Company',\n",
       "  'location': '서울',\n",
       "  'link': 'https://kr.indeed.com/viewjob?jk=d11342cfe074df78'},\n",
       " {'title': 'MPK / MPI-SD Joint Postdoctoral Position for Ultrafast Nonlinear Spectroscopy in Solids (Theory)',\n",
       "  'company': 'Closing today!',\n",
       "  'location': '대한민국',\n",
       "  'link': 'https://kr.indeed.com/viewjob?jk=e11bc11a4d72cc54'}]"
      ]
     },
     "execution_count": 8,
     "metadata": {},
     "output_type": "execute_result"
    }
   ],
   "source": [
    "indeed = get_indeed_jobs()\n",
    "indeed"
   ]
  },
  {
   "cell_type": "code",
   "execution_count": 9,
   "metadata": {},
   "outputs": [],
   "source": [
    "Q = \"python\"\n",
    "# indeed url\n",
    "STACK_OF_FLOW_URL = f\"https://stackoverflow.com/jobs?q={Q}&sort=i\""
   ]
  },
  {
   "cell_type": "code",
   "execution_count": 10,
   "metadata": {},
   "outputs": [],
   "source": [
    "# 1. page\n",
    "def get_stack_last_page():\n",
    "    request = requests.get(STACK_OF_FLOW_URL)\n",
    "    html_parse = bs(request.text, \"html.parser\")\n",
    "    \n",
    "    # pagination\n",
    "    pagination = html_parse.find(\"div\", {\"class\": \"s-pagination\"})\n",
    "    pages = pagination.find_all(\"a\")\n",
    "\n",
    "    print(pages)\n",
    "    return True"
   ]
  },
  {
   "cell_type": "code",
   "execution_count": 11,
   "metadata": {},
   "outputs": [],
   "source": [
    "# 2. requests\n",
    "def request_stack_of_flow():\n",
    "    pass"
   ]
  },
  {
   "cell_type": "code",
   "execution_count": 12,
   "metadata": {},
   "outputs": [],
   "source": [
    "# 3. job\n",
    "def get_stack_jobs():\n",
    "    jobs = []\n",
    "    last_page = get_stack_last_page()\n",
    "    jobs = last_page\n",
    "    return jobs"
   ]
  },
  {
   "cell_type": "code",
   "execution_count": 13,
   "metadata": {},
   "outputs": [],
   "source": [
    "# main \n",
    "def get_stack_of_flow():\n",
    "    return get_stack_jobs()"
   ]
  },
  {
   "cell_type": "code",
   "execution_count": 14,
   "metadata": {},
   "outputs": [
    {
     "name": "stdout",
     "output_type": "stream",
     "text": [
      "[<a class=\"s-pagination--item is-selected\" href=\"/jobs?q=python&amp;sort=i\" title=\"page 1 of 165\">\n",
      "<span>1</span>\n",
      "</a>, <a class=\"s-pagination--item\" href=\"/jobs?q=python&amp;sort=i&amp;pg=2\" title=\"page 2 of 165\">\n",
      "<span>2</span>\n",
      "</a>, <a class=\"s-pagination--item\" href=\"/jobs?q=python&amp;sort=i&amp;pg=3\" title=\"page 3 of 165\">\n",
      "<span>3</span>\n",
      "</a>, <a class=\"s-pagination--item\" href=\"/jobs?q=python&amp;sort=i&amp;pg=4\" title=\"page 4 of 165\">\n",
      "<span>4</span>\n",
      "</a>, <a class=\"s-pagination--item\" href=\"/jobs?q=python&amp;sort=i&amp;pg=165\" title=\"page 165 of 165\">\n",
      "<span>165</span>\n",
      "</a>, <a class=\"s-pagination--item\" href=\"/jobs?q=python&amp;sort=i&amp;pg=2\" title=\"page 2 of 165\">\n",
      "<span>next</span><i class=\"material-icons\">chevron_right</i>\n",
      "</a>]\n"
     ]
    },
    {
     "data": {
      "text/plain": [
       "True"
      ]
     },
     "execution_count": 14,
     "metadata": {},
     "output_type": "execute_result"
    }
   ],
   "source": [
    "stack = get_stack_of_flow()\n",
    "stack"
   ]
  }
 ],
 "metadata": {
  "kernelspec": {
   "display_name": "Python 3",
   "language": "python",
   "name": "python3"
  },
  "language_info": {
   "codemirror_mode": {
    "name": "ipython",
    "version": 3
   },
   "file_extension": ".py",
   "mimetype": "text/x-python",
   "name": "python",
   "nbconvert_exporter": "python",
   "pygments_lexer": "ipython3",
   "version": "3.7.4"
  },
  "toc": {
   "base_numbering": 1,
   "nav_menu": {},
   "number_sections": true,
   "sideBar": true,
   "skip_h1_title": false,
   "title_cell": "Table of Contents",
   "title_sidebar": "Contents",
   "toc_cell": false,
   "toc_position": {},
   "toc_section_display": true,
   "toc_window_display": false
  }
 },
 "nbformat": 4,
 "nbformat_minor": 2
}
